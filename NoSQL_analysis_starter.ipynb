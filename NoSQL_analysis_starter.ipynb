{
 "cells": [
  {
   "cell_type": "markdown",
   "id": "9a57c4c6",
   "metadata": {},
   "source": [
    "# Eat Safe, Love"
   ]
  },
  {
   "cell_type": "markdown",
   "id": "064ef857",
   "metadata": {},
   "source": [
    "## Notebook Set Up"
   ]
  },
  {
   "cell_type": "code",
   "execution_count": 1,
   "id": "3ecdd008",
   "metadata": {
    "tags": []
   },
   "outputs": [],
   "source": [
    "# Import dependencies\n",
    "from pymongo import MongoClient\n",
    "from pprint import pprint\n"
   ]
  },
  {
   "cell_type": "code",
   "execution_count": 2,
   "id": "64768870-e7e5-4152-9e77-5d123e9a40c7",
   "metadata": {
    "tags": []
   },
   "outputs": [],
   "source": [
    "import pandas as pd\n",
    "import json\n",
    "import pandas as pd  "
   ]
  },
  {
   "cell_type": "code",
   "execution_count": 3,
   "id": "59390c4a",
   "metadata": {
    "tags": []
   },
   "outputs": [],
   "source": [
    "# Create an instance of MongoClient\n",
    "mongo = MongoClient(port=27017)"
   ]
  },
  {
   "cell_type": "code",
   "execution_count": 4,
   "id": "71e373c1",
   "metadata": {
    "tags": []
   },
   "outputs": [],
   "source": [
    "# assign the uk_food database to a variable name\n",
    "db = mongo['uk_food']"
   ]
  },
  {
   "cell_type": "code",
   "execution_count": 5,
   "id": "18ab463c",
   "metadata": {
    "tags": []
   },
   "outputs": [],
   "source": [
    "# review the collections in our database\n"
   ]
  },
  {
   "cell_type": "code",
   "execution_count": 6,
   "id": "11c9f11b",
   "metadata": {
    "tags": []
   },
   "outputs": [],
   "source": [
    "# assign the collection to a variable\n",
    "establishments = db['establishments']"
   ]
  },
  {
   "cell_type": "markdown",
   "id": "d5671434",
   "metadata": {},
   "source": [
    "## Part 3: Exploratory Analysis\n",
    "Unless otherwise stated, for each question: \n",
    "* Use `count_documents` to display the number of documents contained in the result.\n",
    "* Display the first document in the results using `pprint`.\n",
    "* Convert the result to a Pandas DataFrame, print the number of rows in the DataFrame, and display the first 10 rows."
   ]
  },
  {
   "cell_type": "markdown",
   "id": "314bd884",
   "metadata": {},
   "source": [
    "### 1. Which establishments have a hygiene score equal to 20?"
   ]
  },
  {
   "cell_type": "code",
   "execution_count": 7,
   "id": "c2da7648",
   "metadata": {
    "tags": []
   },
   "outputs": [
    {
     "name": "stdout",
     "output_type": "stream",
     "text": [
      "Number of establishments with hygiene score equal to 20: 0\n",
      "None\n"
     ]
    }
   ],
   "source": [
    "# Find the establishments with a hygiene score of 20\n",
    "query_hygiene_20 = {\"scores.Hygiene\": 20}\n",
    "\n",
    "# Use count_documents to display the number of documents in the result\n",
    "count_hygiene_20 = db['establishments'].count_documents(query_hygiene_20)\n",
    "print(f\"Number of establishments with hygiene score equal to 20: {count_hygiene_20}\")\n",
    "\n",
    "\n",
    "# Display the first document\n",
    "document_hygiene_20 = db['establishments'].find_one(query_hygiene_20)\n",
    "pprint(document_hygiene_20)\n",
    "\n"
   ]
  },
  {
   "cell_type": "code",
   "execution_count": 8,
   "id": "a6e5cece",
   "metadata": {
    "tags": []
   },
   "outputs": [
    {
     "name": "stdout",
     "output_type": "stream",
     "text": [
      "Number of rows in DataFrame: 0\n",
      "First 10 rows:\n",
      "Empty DataFrame\n",
      "Columns: []\n",
      "Index: []\n"
     ]
    }
   ],
   "source": [
    "# Convert the result to a Pandas DataFrame\n",
    "df_hygiene_20 = pd.DataFrame(list(db['establishments'].find(query_hygiene_20)))\n",
    "# Display the number of rows in the DataFrame\n",
    "\n",
    "# Display the first 10 rows of the DataFrame\n",
    "print(f\"Number of rows in DataFrame: {len(df_hygiene_20)}\")\n",
    "print(\"First 10 rows:\")\n",
    "\n",
    "# Convert the result to a Pandas DataFrame\n",
    "print(df_hygiene_20.head(10))"
   ]
  },
  {
   "cell_type": "markdown",
   "id": "0ef4395a",
   "metadata": {},
   "source": [
    "### 2. Which establishments in London have a `RatingValue` greater than or equal to 4?"
   ]
  },
  {
   "cell_type": "code",
   "execution_count": 9,
   "id": "93c63829",
   "metadata": {
    "tags": []
   },
   "outputs": [
    {
     "name": "stdout",
     "output_type": "stream",
     "text": [
      "Number of establishments in London with RatingValue >= 4: 0\n",
      "None\n"
     ]
    }
   ],
   "source": [
    "# Find the establishments with London as the Local Authority and has a RatingValue greater than or equal to 4.\n",
    "query_london_rating_4 = {\n",
    "    \"LocalAuthorityName\": {\"$regex\": \"London\", \"$options\": \"i\"},\n",
    "    \"RatingValue\": {\"$gte\": 4}\n",
    "}\n",
    "\n",
    "# Use count_documents to display the number of documents in the result\n",
    "\n",
    "count_london_rating_4 = db['establishments'].count_documents(query_london_rating_4)\n",
    "print(f\"Number of establishments in London with RatingValue >= 4: {count_london_rating_4}\")\n",
    "\n",
    "# Display the first document in the results using pprint\n",
    "document_london_rating_4 = db['establishments'].find_one(query_london_rating_4)\n",
    "pprint(document_london_rating_4)\n",
    "\n"
   ]
  },
  {
   "cell_type": "code",
   "execution_count": 10,
   "id": "07e24ccb",
   "metadata": {
    "tags": []
   },
   "outputs": [
    {
     "name": "stdout",
     "output_type": "stream",
     "text": [
      "Number of rows in DataFrame: 0\n",
      "First 10 rows:\n",
      "Empty DataFrame\n",
      "Columns: []\n",
      "Index: []\n"
     ]
    }
   ],
   "source": [
    "# Convert the result to a Pandas DataFrame\n",
    "df_london_rating_4 = pd.DataFrame(list(db['establishments'].find(query_london_rating_4)))\n",
    "\n",
    "\n",
    "\n",
    "# Display the first 10 rows of the DataFrame\n",
    "print(f\"Number of rows in DataFrame: {len(df_london_rating_4)}\")\n",
    "print(\"First 10 rows:\")\n",
    "\n",
    "# Convert the result to a Pandas DataFrame\n",
    "print(df_london_rating_4.head(10))\n"
   ]
  },
  {
   "cell_type": "markdown",
   "id": "4e570caf",
   "metadata": {},
   "source": [
    "### 3. What are the top 5 establishments with a `RatingValue` rating value of 5, sorted by lowest hygiene score, nearest to the new restaurant added, \"Penang Flavours\"?"
   ]
  },
  {
   "cell_type": "code",
   "execution_count": 11,
   "id": "7f599f3d",
   "metadata": {
    "tags": []
   },
   "outputs": [
    {
     "name": "stdout",
     "output_type": "stream",
     "text": [
      "Number of establishments with RatingValue of 5 near Penang Flavours: 0\n",
      "None\n"
     ]
    }
   ],
   "source": [
    "# Search within 0.01 degree on either side of the latitude and longitude.\n",
    "\n",
    "penang_flavours_geocode = {\"longitude\": 0.08384000, \"latitude\": 51.49014200}\n",
    "\n",
    "query_top_5_rating_5 = {\n",
    "    \"RatingValue\": 5,\n",
    "    \"geocode.longitude\": {\"$gte\": penang_flavours_geocode[\"longitude\"] - 0.01, \"$lte\": penang_flavours_geocode[\"longitude\"] + 0.01},\n",
    "    \"geocode.latitude\": {\"$gte\": penang_flavours_geocode[\"latitude\"] - 0.01, \"$lte\": penang_flavours_geocode[\"latitude\"] + 0.01},\n",
    "}\n",
    "\n",
    "# Sort by lowest hygiene score\n",
    "sort_top_5_rating_5 = [(\"scores.Hygiene\", 1)]\n",
    "\n",
    "# Count documents\n",
    "count_top_5_rating_5 = db['establishments'].count_documents(query_top_5_rating_5)\n",
    "print(f\"Number of establishments with RatingValue of 5 near Penang Flavours: {count_top_5_rating_5}\")\n",
    "\n",
    "# Display the first document\n",
    "document_top_5_rating_5 = db['establishments'].find_one(query_top_5_rating_5, sort=sort_top_5_rating_5)\n",
    "pprint(document_top_5_rating_5)\n",
    "\n"
   ]
  },
  {
   "cell_type": "code",
   "execution_count": 12,
   "id": "a6ad16f7",
   "metadata": {
    "tags": []
   },
   "outputs": [
    {
     "name": "stdout",
     "output_type": "stream",
     "text": [
      "Number of rows in DataFrame: 0\n",
      "First 10 rows:\n",
      "Empty DataFrame\n",
      "Columns: []\n",
      "Index: []\n"
     ]
    }
   ],
   "source": [
    "# Convert result to Pandas DataFrame\n",
    "df_top_5_rating_5 = pd.DataFrame(list(db['establishments'].find(query_top_5_rating_5).sort(sort_top_5_rating_5)))\n",
    "print(f\"Number of rows in DataFrame: {len(df_top_5_rating_5)}\")\n",
    "print(\"First 10 rows:\")\n",
    "print(df_top_5_rating_5.head(10))"
   ]
  },
  {
   "cell_type": "markdown",
   "id": "67281254",
   "metadata": {},
   "source": [
    "### 4. How many establishments in each Local Authority area have a hygiene score of 0?"
   ]
  },
  {
   "cell_type": "code",
   "execution_count": 13,
   "id": "4eeb227e",
   "metadata": {
    "tags": []
   },
   "outputs": [
    {
     "name": "stdout",
     "output_type": "stream",
     "text": [
      "Number of establishments in each Local Authority with hygiene score of 0:\n",
      "[]\n"
     ]
    }
   ],
   "source": [
    "# Create a pipeline that: \n",
    "# 1. Matches establishments with a hygiene score of 0\n",
    "# 2. Groups the matches by Local Authority\n",
    "# 3. Sorts the matches from highest to lowest\n",
    "aggregation_hygiene_0 = [\n",
    "    {\"$match\": {\"scores.Hygiene\": 0}},\n",
    "    {\"$group\": {\"_id\": \"$LocalAuthorityName\", \"count\": {\"$sum\": 1}}},\n",
    "    {\"$sort\": {\"count\": -1}},\n",
    "    {\"$limit\": 10}\n",
    "]\n",
    "\n",
    "# Execute aggregation pipeline\n",
    "result_hygiene_0 = list(db['establishments'].aggregate(aggregation_hygiene_0))\n",
    "print(\"Number of establishments in each Local Authority with hygiene score of 0:\")\n",
    "pprint(result_hygiene_0)\n"
   ]
  },
  {
   "cell_type": "code",
   "execution_count": null,
   "id": "60abf438-198b-47e2-8280-1da744afd0b7",
   "metadata": {},
   "outputs": [],
   "source": []
  }
 ],
 "metadata": {
  "kernelspec": {
   "display_name": "Python 3 (ipykernel)",
   "language": "python",
   "name": "python3"
  },
  "language_info": {
   "codemirror_mode": {
    "name": "ipython",
    "version": 3
   },
   "file_extension": ".py",
   "mimetype": "text/x-python",
   "name": "python",
   "nbconvert_exporter": "python",
   "pygments_lexer": "ipython3",
   "version": "3.11.5"
  }
 },
 "nbformat": 4,
 "nbformat_minor": 5
}
